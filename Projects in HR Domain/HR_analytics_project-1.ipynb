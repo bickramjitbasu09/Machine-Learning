{
  "nbformat": 4,
  "nbformat_minor": 0,
  "metadata": {
    "colab": {
      "name": "HRData_C20010.ipynb",
      "provenance": []
    },
    "kernelspec": {
      "name": "python3",
      "display_name": "Python 3"
    }
  },
  "cells": [
    {
      "cell_type": "code",
      "metadata": {
        "id": "017I0cyEHhAL"
      },
      "source": [
        "import pandas as pd\n",
        "import numpy as np\n",
        "import seaborn as sns \n",
        "import matplotlib.pyplot as plt"
      ],
      "execution_count": 1,
      "outputs": []
    },
    {
      "cell_type": "code",
      "metadata": {
        "colab": {
          "resources": {
            "http://localhost:8080/nbextensions/google.colab/files.js": {
              "data": "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",
              "ok": true,
              "headers": [
                [
                  "content-type",
                  "application/javascript"
                ]
              ],
              "status": 200,
              "status_text": ""
            }
          },
          "base_uri": "https://localhost:8080/",
          "height": 110
        },
        "id": "2Q8EQjBZHnWR",
        "outputId": "027c9538-0f14-4205-9053-80733666bef1"
      },
      "source": [
        "from google.colab import files\n",
        "files.upload()"
      ],
      "execution_count": 2,
      "outputs": [
        {
          "output_type": "display_data",
          "data": {
            "text/html": [
              "\n",
              "     <input type=\"file\" id=\"files-3d6214be-7dbb-40af-b52d-9ed077181ef4\" name=\"files[]\" multiple disabled\n",
              "        style=\"border:none\" />\n",
              "     <output id=\"result-3d6214be-7dbb-40af-b52d-9ed077181ef4\">\n",
              "      Upload widget is only available when the cell has been executed in the\n",
              "      current browser session. Please rerun this cell to enable.\n",
              "      </output>\n",
              "      <script src=\"/nbextensions/google.colab/files.js\"></script> "
            ],
            "text/plain": [
              "<IPython.core.display.HTML object>"
            ]
          },
          "metadata": {
            "tags": []
          }
        },
        {
          "output_type": "stream",
          "text": [
            "Saving HRDataset_v13.csv to HRDataset_v13.csv\n"
          ],
          "name": "stdout"
        },
        {
          "output_type": "execute_result",
          "data": {
            "text/plain": [
              "{'HRDataset_v13.csv': b'Employee_Name,MaritalStatusID,GenderID,DeptID,PerfScoreID,PayRate,PositionID,EngagementSurvey,EmpSatisfaction,SpecialProjectsCount\\r\\n\"Brown, Mia\",1,0,1,3,28.5,1,2.04,2,6\\r\\n\"LaRotonda, William  \",2,1,1,3,23,1,5,4,4\\r\\n\"Steans, Tyrone  \",0,1,1,3,29,1,3.9,5,5\\r\\n\"Howard, Estelle\",1,0,1,3,21.5,2,3.24,3,4\\r\\n\"Singh, Nan \",0,0,1,3,16.56,2,5,3,5\\r\\n\"Smith, Leigh Ann\",1,0,1,3,20.5,2,3.8,4,4\\r\\n\"Bunbury, Jessica\",1,0,6,3,55,3,3.14,5,0\\r\\n\"Carter, Michelle \",0,0,6,3,55,3,5,5,0\\r\\n\"Dietrich, Jenna  \",0,0,6,1,55,3,2.3,1,0\\r\\n\"Digitale, Alfred\",1,1,6,3,56,3,3.6,5,0\\r\\n\"Friedman, Gerry\",0,1,6,3,55.5,3,3.65,5,0\\r\\n\"Gill, Whitney  \",4,0,6,3,55,3,3.97,4,0\\r\\n\"Gonzales, Ricardo\",1,1,6,3,55.5,3,3.98,3,0\\r\\n\"Guilianno, Mike\",0,1,6,3,55,3,4.5,5,0\\r\\n\"Leruth, Giovanni\",3,1,6,3,55,3,4.53,3,0\\r\\n\"Mullaney, Howard\",0,1,6,1,55,3,1.93,3,0\\r\\n\"Ozark, Travis\",0,1,6,3,55,3,5,5,0\\r\\n\"Strong, Caitrin\",1,0,6,3,54,3,2,4,0\\r\\n\"Valentin,Jackie\",1,0,6,3,55,3,2.81,3,0\\r\\n\"Villanueva, Noah\",0,1,6,3,56,3,1.77,4,0\\r\\n\"Buck, Edward\",1,1,6,3,55,3,3.31,5,0\\r\\n\"Costa, Latia\",0,0,6,4,55,3,4.77,5,0\\r\\n\"Fraval, Maruk \",0,1,6,3,55,3,1.64,3,0\\r\\n\"Givens, Myriam\",0,0,6,3,55,3,1.72,5,0\\r\\nJeremy Prater,1,1,6,1,56,3,1.81,2,0\\r\\n\"Khemmich, Bartholemew\",0,1,6,3,55,3,2.19,5,0\\r\\n\"Martins, Joseph\",0,1,6,3,56,3,2.94,5,0\\r\\n\"McKinzie, Jac\",1,1,6,3,55,3,2.91,4,0\\r\\n\"Nguyen, Dheepa\",0,0,6,3,55,3,5,5,0\\r\\n\"Onque, Jasmine\",0,0,6,3,57,3,4.28,3,0\\r\\n\"Potts, Xana\",1,0,6,3,55,3,4.2,5,0\\r\\n\"Riordan, Michael\",3,1,6,4,55,3,4.1,3,0\\r\\n\"Terry, Sharlene \",0,0,6,3,55,3,3.69,3,0\\r\\n\"Rachael, Maggie\",1,0,3,3,45,4,2.02,4,6\\r\\n\"Smith, Jason\",0,1,3,3,46,4,3.01,5,7\\r\\n\"Westinghouse, Matthew\",1,1,3,3,45,4,1.82,3,6\\r\\n\"Hubert, Robert\",1,1,3,3,45,4,2.06,5,5\\r\\n\"Champaigne, Brian\",1,1,3,3,63.5,5,4.5,5,7\\r\\n\"Zamora, Jennifer\",0,0,3,4,65,6,1.12,5,6\\r\\n\"Roper, Katie\",0,0,3,3,55,7,4.94,3,5\\r\\n\"Becker, Renee\",0,0,3,3,43,8,1.87,4,5\\r\\n\"Goble, Taisha\",0,0,3,3,48.5,8,1.87,4,4\\r\\n\"Hernandez, Daniff\",1,1,3,3,40.1,8,4.33,3,7\\r\\n\"Horton, Jayne\",0,0,3,3,34,8,4.48,5,6\\r\\n\"Johnson, Noelle \",1,0,3,3,40,8,3.75,3,5\\r\\n\"Murray, Thomas\",2,1,3,4,35.5,9,4.28,4,5\\r\\n\"Pearson, Randall\",1,1,3,3,41,9,1.62,4,5\\r\\n\"Petrowsky, Thelma\",1,0,3,4,42.75,9,3.71,5,7\\r\\n\"Roby, Lori \",1,0,3,3,39.55,9,3.69,5,6\\r\\n\"Rogers, Ivan\",1,1,3,3,42.2,9,3.04,3,6\\r\\n\"Salter, Jason\",2,1,3,3,45,9,2.19,3,5\\r\\n\"Simard, Kramer\",1,1,3,3,30.2,9,3.32,3,7\\r\\n\"Zhou, Julia\",0,0,3,3,31.4,9,5,3,5\\r\\n\"Bramante, Elisa\",0,0,5,4,60,10,3.02,5,0\\r\\n\"Houlihan, Debra\",1,0,6,3,60,11,1.22,4,0\\r\\n\"Foss, Jason\",0,1,3,4,65,12,3.76,5,5\\r\\n\"Roup,Simon\",0,1,3,3,62,13,2.96,5,7\\r\\n\"Ruiz, Ricardo\",2,1,3,3,21,13,2.51,4,6\\r\\n\"Monroe, Peter\",1,1,3,2,63,13,2.39,3,6\\r\\n\"Dougall, Eric\",0,1,3,4,64,13,1.99,5,5\\r\\n\"Clayton, Rick\",0,1,3,3,28.99,14,2.55,3,6\\r\\n\"Galia, Lisa\",0,0,3,3,31.4,14,1.21,4,5\\r\\n\"Lindsay, Leonara \",0,0,3,4,26,14,4.64,4,5\\r\\n\"Soto, Julia \",1,0,3,3,27.49,14,4.3,3,5\\r\\n\"Bacong, Alejandro \",2,1,3,3,45,14,1.84,5,6\\r\\n\"Cisco, Anthony\",1,1,3,3,42,14,2.21,5,7\\r\\n\"Dolan, Linda\",1,0,3,3,37,14,4.11,4,6\\r\\n\"Gonzalez, Maria\",3,0,3,3,39,14,4.61,4,5\\r\\n\"Merlos, Carlos\",0,1,3,1,43,15,1.2,3,6\\r\\n\"Morway, Tanya\",1,0,3,3,27,15,3.81,3,6\\r\\n\"Shepard, Anita \",1,0,3,3,47,15,3.31,3,6\\r\\n\"Tredinnick, Neville \",1,1,3,3,28,15,5,3,5\\r\\n\"Turpin, Jumil\",1,1,3,3,49.1,15,5,4,7\\r\\n\"King, Janet\",1,0,2,3,80,16,4.83,3,0\\r\\n\"Albert, Michael  \",2,1,5,3,54.5,17,3.93,3,0\\r\\n\"Bozzi, Charles\",0,1,5,3,50.5,18,3.39,3,0\\r\\n\"Butler, Webster  L\",0,1,5,4,55,18,5,3,0\\r\\n\"Dunn, Amy  \",0,0,5,3,51,18,4.52,4,0\\r\\n\"Gray, Elijiah  \",2,1,5,3,54,18,4.63,3,0\\r\\n\"Hogland, Jonathan \",1,1,5,3,48.5,18,4.78,4,0\\r\\n\"Immediato, Walter\",1,1,5,2,42,18,2.34,2,0\\r\\n\"Liebig, Ketsia\",1,0,5,4,55,18,3.66,3,0\\r\\n\"Miller, Brannon\",0,1,5,3,53,18,4.37,3,0\\r\\n\"Peterson, Ebonee  \",1,0,5,3,38.5,18,4.16,5,0\\r\\n\"Spirea, Kelley\",1,0,5,3,52,18,4.83,5,0\\r\\n\"Stanley, David \",2,1,5,2,53,18,4.13,2,0\\r\\n\"Sullivan, Kissy \",1,0,5,3,55,18,3.73,4,0\\r\\n\"Wallace, Courtney  E\",1,0,5,3,33.5,18,1.18,3,0\\r\\n\"Anderson, Linda  \",0,0,5,4,23,19,5,5,0\\r\\n\"Bernstein, Sean\",0,1,5,3,16,19,5,3,0\\r\\n\"Chivukula, Enola\",0,0,5,3,21,19,2,4,0\\r\\n\"Desimone, Carl \",1,1,5,1,20,19,1.12,2,0\\r\\n\"Fernandes, Nilson  \",1,1,5,1,18,19,1.56,5,0\\r\\n\"Girifalco, Evelyn\",0,0,5,4,16,19,3.39,4,0\\r\\n\"Harrison, Kara\",1,0,5,4,20,19,4.76,4,0\\r\\n\"Kirill, Alexandra  \",1,0,5,3,24,19,3.49,4,0\\r\\n\"MacLennan, Samuel\",4,1,5,3,15,19,3.08,4,0\\r\\n\"Ndzi, Horia\",1,1,5,3,22,19,3.18,3,0\\r\\n\"Perry, Shakira\",0,0,5,3,22,19,3.45,4,0\\r\\n\"Robinson, Alain  \",1,1,5,3,24,19,5,3,0\\r\\n\"Shields, Seffi\",1,0,5,3,15,19,4.81,4,0\\r\\n\"Theamstern, Sophia\",0,0,5,3,20,19,3.98,4,0\\r\\n\"Wilber, Barry\",1,1,5,3,21,19,5,3,0\\r\\n\"Bachiochi, Linda\",0,0,5,3,22,19,4.46,3,0\\r\\n\"Billis, Helen\",1,0,5,4,16,19,5,3,0\\r\\n\"Clukey, Elijian\",1,1,5,4,24.75,19,1.97,4,0\\r\\n\"DiNocco, Lily \",1,0,5,2,22,19,3.88,4,0\\r\\n\"Fidelia,  Libby\",1,0,5,3,24,19,5,5,0\\r\\n\"Gonzalez, Cayo\",2,1,5,4,16,19,1.83,4,0\\r\\n\"Ivey, Rose \",0,0,5,3,16,19,3.99,3,0\\r\\n\"Kretschmer, John\",1,1,5,3,21,19,3.38,3,0\\r\\n\"Mangal, Debbie\",1,0,5,3,23,19,1.04,3,0\\r\\n\"Ngodup, Shari \",3,0,5,4,15,19,1.12,3,0\\r\\n\"Pham, Hong\",1,1,5,3,18,19,5,3,0\\r\\n\"Robinson, Elias\",4,1,5,4,17,19,3.02,5,0\\r\\n\"Sparks, Taylor  \",1,0,5,1,16,19,4.11,2,0\\r\\n\"Tippett, Jeanette\",2,0,5,3,24,19,4.21,5,0\\r\\n\"Ybarra, Catherine \",0,0,5,1,22,19,4.29,2,0\\r\\n\"Baczenski, Rachael  \",1,0,5,3,17,19,1.79,4,0\\r\\n\"Brill, Donna\",1,0,5,3,20,19,3.35,4,0\\r\\n\"Cockel, James\",0,1,5,3,15,19,1.51,5,0\\r\\n\"Dobrin, Denisa  S\",0,0,5,3,16.75,19,2.79,5,0\\r\\n\"Garcia, Raul\",0,1,5,3,19,19,4.5,3,0\\r\\n\"Gordon, David\",1,1,5,3,15,19,5,3,0\\r\\n\"Jackson, Maryellen\",0,0,5,3,20,19,2.32,3,0\\r\\n\"Langton, Enrico\",1,1,5,3,17,19,5,5,0\\r\\n\"Maurice, Shana\",1,0,5,3,20,19,5,4,0\\r\\n\"Nguyen, Lei-Ming\",0,0,5,3,19,19,2.79,5,0\\r\\n\"Pitt, Brad \",0,1,5,3,17,19,3.66,3,0\\r\\n\"Rose, Ashley  \",3,0,5,3,17,19,5,4,0\\r\\n\"Squatrito, Kristen\",2,0,5,4,21,19,1.97,4,0\\r\\n\"Trang, Mei\",0,0,5,2,22,19,2.44,5,0\\r\\n\"Zima, Colleen\",4,0,5,3,15,19,1.24,5,0\\r\\n\"Alagbe,Trina\",1,0,5,3,21,19,4.84,5,0\\r\\n\"Beatrice, Courtney \",0,0,5,3,22,19,5,5,0\\r\\n\"Chan, Lin\",0,0,5,3,19.5,19,2.73,4,0\\r\\n\"Darson, Jene\\'ya \",1,0,5,3,15,19,5,3,0\\r\\n\"Evensen, April\",0,0,5,2,18,19,1.04,3,0\\r\\n\"Gerke, Melisa\",2,0,5,3,22,19,4.24,4,0\\r\\n\"Harrell, Ludwick\",1,1,5,3,21,19,1.83,3,0\\r\\n\"Jung, Judy  \",1,0,5,3,21,19,4,4,0\\r\\n\"Lydon, Allison\",1,0,5,3,20,19,5,3,0\\r\\n\"Motlagh,  Dawn\",2,0,5,3,15,19,1.76,4,0\\r\\n\"Panjwani, Nina\",1,0,5,3,18,19,3.89,4,0\\r\\n\"Rhoads, Thomas\",2,1,5,3,20,19,5,4,0\\r\\n\"Sander, Kamrin\",1,0,5,3,21,19,3.51,3,0\\r\\n\"Sutwell, Barbara\",0,0,5,3,14,19,2.77,5,0\\r\\n\"Wallace, Theresa\",0,0,5,2,15,19,1.27,3,0\\r\\n\"Barone, Francesco  A\",0,1,5,3,16.76,19,1.41,4,0\\r\\n\"Carey, Michael  \",0,1,5,3,20,19,4.43,3,0\\r\\n\"Cornett, Lisa \",1,0,5,3,15.75,19,4.73,5,0\\r\\n\"Engdahl, Jean\",0,1,5,3,21.25,19,1.86,5,0\\r\\n\"England, Rex\",1,1,5,3,21,19,2.05,3,0\\r\\n\"Gaul, Barbara\",0,0,5,3,24,19,1.66,4,0\\r\\n\"Gross, Paula\",2,0,5,3,14,19,5,5,0\\r\\n\"Jhaveri, Sneha  \",3,0,5,3,19,19,5,5,0\\r\\n\"LeBel, Jonathan  R\",0,1,5,3,15,19,5,4,0\\r\\n\"Meads, Elizabeth\",0,0,5,3,14,19,4.18,4,0\\r\\n\"Osturnka, Adeel\",1,1,5,4,16,19,2.86,3,0\\r\\n\"Punjabhi, Louis  \",0,1,5,3,16,19,2.45,3,0\\r\\n\"Saar-Beckles, Melinda\",0,0,5,2,20,19,1.12,4,0\\r\\n\"Stoica, Rick\",1,1,5,3,22,19,1.39,3,0\\r\\n\"Volk, Colleen\",1,0,5,4,21,19,2.79,5,0\\r\\n\"Athwal, Sam\",4,1,5,3,22,19,5,4,0\\r\\n\"Biden, Lowan  M\",2,0,5,3,22,19,2.39,3,0\\r\\n\"Cierpiszewski, Caroline  \",0,0,5,3,22,19,3.58,5,0\\r\\n\"Dickinson, Geoff \",0,1,5,3,21,19,1.13,4,0\\r\\n\"Ferreira, Violeta\",0,0,5,3,23,19,1.85,4,0\\r\\n\"Gold, Shenice  \",0,0,5,3,17,19,1.94,5,0\\r\\n\"Heitzman, Anthony\",0,1,5,3,19,19,4.17,4,0\\r\\n\"Knapp, Bradley  J\",0,1,5,3,14,19,2.79,3,0\\r\\n\"Mahoney, Lauren  \",0,0,5,3,17,19,2.55,4,0\\r\\n\"Newman, Richard \",1,1,5,3,21,19,5,5,0\\r\\n\"Peterson, Kayla \",1,0,5,3,17,19,2.72,3,0\\r\\n\"Robinson, Cherly\",1,0,5,2,16,19,3.6,3,0\\r\\n\"Smith, Sade\",0,0,5,3,24.5,19,3.73,3,0\\r\\n\"Tinto, Theresa  \",2,0,5,3,20,19,2.81,5,0\\r\\n\"Williams, Jacquelyn  \",0,0,5,3,16,19,1.44,4,0\\r\\n\"Barbara, Thomas\",1,1,5,3,22,19,1.98,3,0\\r\\n\"Bugali, Josephine \",3,0,5,3,20,19,2.83,5,0\\r\\n\"Cole, Spencer\",0,1,5,2,15,19,1.42,3,0\\r\\n\"Eaton, Marianne\",1,0,5,3,17,19,5,3,0\\r\\n\"Garneau, Hamish\",0,1,5,3,18,19,2.61,4,0\\r\\n\"Goyal, Roxana\",1,0,5,3,24,19,1.71,5,0\\r\\n\"Jacobi, Hannah  \",2,0,5,3,21,19,2.05,5,0\\r\\n\"Leach, Dallas\",0,0,5,3,19,19,4.88,3,0\\r\\n\"Mckenna, Sandy\",1,0,5,3,24,19,3.93,3,0\\r\\n\"O\\'hare, Lynn\",0,0,5,1,18.5,19,3.09,2,0\\r\\n\"Power, Morissa\",2,0,5,3,19,19,3.17,4,0\\r\\n\"Purinton, Janine\",2,0,5,3,16,19,1.5,5,0\\r\\n\"Rossetti, Bruno\",0,1,5,3,18,19,5,5,0\\r\\n\"Stanford,Barbara  M\",2,0,5,3,14,19,1.05,4,0\\r\\n\"Veera, Abdellah \",2,1,5,4,19,19,3.84,5,0\\r\\n\"Adinolfi, Wilson  K\",0,1,5,4,20,19,2.51,5,0\\r\\n\"Barton, Nader\",2,1,5,3,18,19,5,5,0\\r\\n\"Chace, Beatrice \",0,0,5,3,16,19,5,4,0\\r\\n\"Crimmings,   Jean\",0,0,5,3,19.75,19,4.12,5,0\\r\\n\"Estremera, Miguel\",0,1,5,2,17,19,5,4,0\\r\\n\"Gentry, Mildred\",1,0,5,3,19,19,3.73,3,0\\r\\n\"Handschiegl, Joanne\",1,0,5,3,24,19,4.2,4,0\\r\\n\"Johnson, George\",1,1,5,4,17,19,1.65,4,0\\r\\n\"Keatts, Kramer \",0,1,5,3,19,19,3.07,4,0\\r\\n\"Linares, Marilyn \",1,0,5,3,15.25,19,3.18,4,0\\r\\n\"Medeiros, Jennifer\",0,0,5,3,20,19,5,4,0\\r\\n\"Owad, Clinton\",0,1,5,2,22,19,4.25,3,0\\r\\n\"Rarrick, Quinn\",2,1,5,3,21,19,3.8,5,0\\r\\n\"Sadki, Nore  \",0,1,5,3,21,19,1.53,5,0\\r\\n\"Sullivan, Timothy\",1,1,5,3,19,19,4.36,5,0\\r\\n\"Von Massenbach, Anna\",0,0,5,3,20,19,3.21,3,0\\r\\n\"Anderson, Carol \",2,0,5,3,16,19,5,4,0\\r\\n\"Becker, Scott\",0,1,5,3,17,19,1.09,4,0\\r\\n\"Chang, Donovan  E\",0,1,5,3,22,19,3.8,5,0\\r\\n\"DeGweck,  James\",1,1,5,3,23.5,19,5,4,0\\r\\n\"Ferguson, Susan\",1,0,5,3,20,19,3.13,3,0\\r\\n\"Gilles, Alex\",1,1,5,2,15,19,3.97,4,0\\r\\n\"Harrington, Christie \",0,0,5,3,19.75,19,4.64,4,0\\r\\n\"Kinsella, Kathleen  \",1,0,5,3,22,19,3.6,5,0\\r\\n\"Lynch, Lindsay\",0,0,5,4,19,19,5,4,0\\r\\n\"Ndzi, Colombui\",0,1,5,3,18,19,2.61,3,0\\r\\n\"Pelech, Emil\",0,1,5,2,24,19,3.54,5,0\\r\\n\"Rivera, Haley  \",1,0,5,4,22,19,4.36,5,0\\r\\n\"Sewkumar, Nori\",0,0,5,3,15.2,19,5,5,0\\r\\n\"Tavares, Desiree  \",1,0,5,3,15,19,2.52,5,0\\r\\n\"Whittier, Scott\",0,1,5,3,23,19,5,5,0\\r\\n\"Burke, Joelle\",0,0,5,3,25,20,4.51,4,0\\r\\n\"Fitzpatrick, Michael  J\",0,1,5,3,29,20,4.76,5,0\\r\\n\"Huynh, Ming\",2,0,5,3,23,20,3.72,3,0\\r\\n\"Mancuso, Karen\",1,0,5,3,23,20,5,4,0\\r\\n\"Pelletier, Ermine\",1,0,5,2,28,20,1.03,5,0\\r\\n\"Trzeciak, Cybil\",0,0,5,3,22,20,1.3,3,0\\r\\n\"Cloninger, Jennifer\",1,0,5,3,25,20,1.16,5,0\\r\\n\"Gonzalez, Juan\",1,1,5,1,29,20,4.35,3,0\\r\\n\"Johnston, Yen\",0,0,5,4,25,20,1.51,3,0\\r\\n\"Miller, Ned\",0,1,5,1,25,20,5,2,0\\r\\n\"Petingill, Shana  \",1,0,5,3,26,20,2.61,3,0\\r\\n\"Winthrop, Jordan  \",0,1,5,4,29,20,1.67,3,0\\r\\n\"Close, Phil\",1,1,5,3,26,20,1.3,4,0\\r\\n\"Good, Susan\",1,0,5,3,24.25,20,2.04,3,0\\r\\n\"Langford, Lindsey\",2,0,5,3,22,20,4.52,3,0\\r\\n\"Monkfish, Erasumus\",1,1,5,3,27,20,2.67,3,0\\r\\n\"Roberson, May\",2,0,5,3,26,20,2.19,4,0\\r\\n\"Wolk, Hang  T\",0,0,5,3,22,20,3.4,4,0\\r\\n\"Bondwell, Betsy\",0,0,5,3,26,20,1.38,5,0\\r\\n\"Faller, Megan \",1,0,5,3,27,20,1.49,5,0\\r\\n\"Hunts, Julissa\",0,0,5,3,25,20,2.92,5,0\\r\\n\"Lunquist, Lisa\",0,0,5,4,26.1,20,1.64,4,0\\r\\n\"Nowlan, Kristie\",0,0,5,3,26.39,20,4.53,5,0\\r\\n\"Smith, Joe\",0,1,5,4,22,20,2.41,3,0\\r\\n\"Tejeda, Lenora \",1,0,5,3,28.75,20,3.93,3,0\\r\\n\"Beak, Kimberly  \",1,0,5,4,27,20,2.7,3,0\\r\\n\"Demita, Carla\",3,0,5,3,29,20,4.62,5,0\\r\\n\"Hankard, Earnest\",0,1,5,3,24,20,5,3,0\\r\\n\"Hendrickson, Trina\",0,0,5,3,24,20,5,3,0\\r\\n\"Linden, Mathew\",1,1,5,3,22,20,4,3,0\\r\\n\"Moran, Patrick\",0,1,5,3,26,20,2.5,4,0\\r\\n\"Sahoo, Adil\",1,1,5,3,29,20,2.08,3,0\\r\\n\"Burkett, Benjamin \",1,1,5,3,26,20,3.25,5,0\\r\\n\"Foreman, Tanya\",1,0,5,3,24,20,3.66,3,0\\r\\n\"Jeannite, Tayana\",2,0,5,4,22.5,20,4.6,4,0\\r\\n\"McCarthy, Brigit\",0,0,5,3,26,20,5,5,0\\r\\n\"Peters, Lauren\",1,0,5,4,29,20,1.79,5,0\\r\\n\"Walker, Roger\",0,1,5,3,22,20,3.11,5,0\\r\\n\"Akinkuolie, Sarah\",1,0,5,3,29,20,3.02,3,0\\r\\n\"Davis, Daniel\",0,1,5,3,25,20,3.96,4,0\\r\\n\"Gosciminski, Phylicia  \",3,0,5,3,27,20,2.57,5,0\\r\\n\"Latif, Mohammed\",1,1,5,3,28,20,1.84,3,0\\r\\n\"Monterro, Luisa\",0,0,5,4,25,20,2.55,3,0\\r\\n\"Robertson, Peter\",1,1,5,3,22,20,2.48,5,0\\r\\n\"Woodson, Jason\",0,1,5,3,24.25,20,4.07,4,0\\r\\n\"Blount, Dianna\",0,0,5,2,27,20,1.16,3,0\\r\\n\"Erilus, Angela\",3,0,5,1,24,20,4.59,1,0\\r\\n\"Homberger, Adrienne  J\",1,0,5,3,28,20,3.03,5,0\\r\\n\"Lundy, Susan\",4,0,5,3,24,20,4.65,4,0\\r\\n\"Moumanil, Maliki \",3,1,5,3,29,20,4.29,5,0\\r\\n\"Sloan, Constance\",0,0,5,3,23,20,4.68,4,0\\r\\n\"Buccheri, Joseph  \",0,1,5,3,22,20,3.19,3,0\\r\\n\"Fancett, Nicole\",0,0,5,3,24,20,4,4,0\\r\\n\"Hutter, Rosalie\",3,0,5,3,28,20,2.63,3,0\\r\\n\"Manchester, Robyn\",1,0,5,3,23,20,5,3,0\\r\\n\"Oliver, Brooke \",1,0,5,3,25,20,5,3,0\\r\\n\"Thibaud, Kenneth\",4,1,5,3,23,20,1.37,4,0\\r\\n\"Daneault, Lynn\",0,0,6,3,54,21,4.62,4,0\\r\\n\"Kampew, Donysha\",0,0,6,3,60.25,21,1.9,5,0\\r\\n\"Smith, John\",2,1,6,2,56,21,1.62,4,0\\r\\n\"Le, Binh\",0,0,3,3,50.25,22,2.09,5,7\\r\\n\"Navathe, Kurt\",0,1,3,3,52.25,22,5,3,6\\r\\n\"Wang, Charlie\",0,1,3,3,51,22,3.42,4,7\\r\\n\"LeBlanc, Brandon  R\",1,1,1,3,55,23,1.95,4,0\\r\\n\"Quinn, Sean\",1,1,1,3,55,23,4.15,4,0\\r\\n\"Andreola, Colby\",0,0,4,3,47.6,24,3.04,3,4\\r\\n\"Carabbio, Judith\",0,0,4,3,56,24,4.96,4,6\\r\\n\"Del Bosque, Keyla\",0,0,4,3,57.12,24,3.79,5,5\\r\\n\"Exantus, Susan\",1,0,4,2,48.5,24,2.55,5,4\\r\\n\"Martin, Sandra\",0,0,4,3,55.51,24,1.53,5,4\\r\\n\"Patronick, Luke\",0,1,4,4,52.25,24,1.1,5,3\\r\\n\"Saada, Adell\",1,0,4,3,49.25,24,1.74,3,6\\r\\n\"Szabo, Andrew\",0,1,4,4,48,24,2.61,5,5\\r\\n\"True, Edward\",0,1,4,3,45.42,24,1.11,3,4\\r\\n\"Sweetwater, Alex\",0,1,4,3,27,25,3.84,3,5\\r\\n\"Foster-Baker, Amy\",1,0,1,3,34.95,26,5,3,2\\r\\n\"Boutwell, Bonalyn\",1,0,1,3,34.95,26,5,4,3\\r\\n\"Ait Sidi, Karthikeyan   \",1,1,3,3,62,27,4.96,3,6\\r\\n\"Carr, Claudia  N\",0,0,3,3,61.3,27,5,5,6\\r\\n\"Favis, Donald  \",0,1,3,3,58.2,30,2.94,5,7\\r\\n\"Roehrich, Bianca\",0,0,3,3,58.5,29,3.88,3,7\\r\\n\"Daniele, Ann  \",1,0,3,3,54.1,28,1.55,5,8\\r\\n\"Lajiri,  Jyoti\",1,1,3,3,56.2,28,4.46,5,6\\r\\n\"Semizoglou, Jeremiah  \",1,1,3,3,53.8,28,3.27,4,5\\r\\n\"South, Joe\",0,1,3,3,53,28,5,3,4\\r\\n\"Warfield, Sarah\",4,0,3,3,55.2,28,1.06,4,8\\r\\n'}"
            ]
          },
          "metadata": {
            "tags": []
          },
          "execution_count": 2
        }
      ]
    },
    {
      "cell_type": "code",
      "metadata": {
        "id": "F-IatGVgHnZa"
      },
      "source": [
        "df=pd.read_csv(\"HRDataset_v13.csv\")"
      ],
      "execution_count": 3,
      "outputs": []
    },
    {
      "cell_type": "code",
      "metadata": {
        "colab": {
          "base_uri": "https://localhost:8080/",
          "height": 189
        },
        "id": "Q_Nc9NVnJ7ht",
        "outputId": "d1f33149-7103-43c6-9903-fd167eabad52"
      },
      "source": [
        "df.head()"
      ],
      "execution_count": 4,
      "outputs": [
        {
          "output_type": "execute_result",
          "data": {
            "text/html": [
              "<div>\n",
              "<style scoped>\n",
              "    .dataframe tbody tr th:only-of-type {\n",
              "        vertical-align: middle;\n",
              "    }\n",
              "\n",
              "    .dataframe tbody tr th {\n",
              "        vertical-align: top;\n",
              "    }\n",
              "\n",
              "    .dataframe thead th {\n",
              "        text-align: right;\n",
              "    }\n",
              "</style>\n",
              "<table border=\"1\" class=\"dataframe\">\n",
              "  <thead>\n",
              "    <tr style=\"text-align: right;\">\n",
              "      <th></th>\n",
              "      <th>Employee_Name</th>\n",
              "      <th>MaritalStatusID</th>\n",
              "      <th>GenderID</th>\n",
              "      <th>DeptID</th>\n",
              "      <th>PerfScoreID</th>\n",
              "      <th>PayRate</th>\n",
              "      <th>PositionID</th>\n",
              "      <th>EngagementSurvey</th>\n",
              "      <th>EmpSatisfaction</th>\n",
              "      <th>SpecialProjectsCount</th>\n",
              "    </tr>\n",
              "  </thead>\n",
              "  <tbody>\n",
              "    <tr>\n",
              "      <th>0</th>\n",
              "      <td>Brown, Mia</td>\n",
              "      <td>1</td>\n",
              "      <td>0</td>\n",
              "      <td>1</td>\n",
              "      <td>3</td>\n",
              "      <td>28.50</td>\n",
              "      <td>1</td>\n",
              "      <td>2.04</td>\n",
              "      <td>2</td>\n",
              "      <td>6</td>\n",
              "    </tr>\n",
              "    <tr>\n",
              "      <th>1</th>\n",
              "      <td>LaRotonda, William</td>\n",
              "      <td>2</td>\n",
              "      <td>1</td>\n",
              "      <td>1</td>\n",
              "      <td>3</td>\n",
              "      <td>23.00</td>\n",
              "      <td>1</td>\n",
              "      <td>5.00</td>\n",
              "      <td>4</td>\n",
              "      <td>4</td>\n",
              "    </tr>\n",
              "    <tr>\n",
              "      <th>2</th>\n",
              "      <td>Steans, Tyrone</td>\n",
              "      <td>0</td>\n",
              "      <td>1</td>\n",
              "      <td>1</td>\n",
              "      <td>3</td>\n",
              "      <td>29.00</td>\n",
              "      <td>1</td>\n",
              "      <td>3.90</td>\n",
              "      <td>5</td>\n",
              "      <td>5</td>\n",
              "    </tr>\n",
              "    <tr>\n",
              "      <th>3</th>\n",
              "      <td>Howard, Estelle</td>\n",
              "      <td>1</td>\n",
              "      <td>0</td>\n",
              "      <td>1</td>\n",
              "      <td>3</td>\n",
              "      <td>21.50</td>\n",
              "      <td>2</td>\n",
              "      <td>3.24</td>\n",
              "      <td>3</td>\n",
              "      <td>4</td>\n",
              "    </tr>\n",
              "    <tr>\n",
              "      <th>4</th>\n",
              "      <td>Singh, Nan</td>\n",
              "      <td>0</td>\n",
              "      <td>0</td>\n",
              "      <td>1</td>\n",
              "      <td>3</td>\n",
              "      <td>16.56</td>\n",
              "      <td>2</td>\n",
              "      <td>5.00</td>\n",
              "      <td>3</td>\n",
              "      <td>5</td>\n",
              "    </tr>\n",
              "  </tbody>\n",
              "</table>\n",
              "</div>"
            ],
            "text/plain": [
              "          Employee_Name  MaritalStatusID  ...  EmpSatisfaction  SpecialProjectsCount\n",
              "0            Brown, Mia                1  ...                2                     6\n",
              "1  LaRotonda, William                  2  ...                4                     4\n",
              "2      Steans, Tyrone                  0  ...                5                     5\n",
              "3       Howard, Estelle                1  ...                3                     4\n",
              "4           Singh, Nan                 0  ...                3                     5\n",
              "\n",
              "[5 rows x 10 columns]"
            ]
          },
          "metadata": {
            "tags": []
          },
          "execution_count": 4
        }
      ]
    },
    {
      "cell_type": "code",
      "metadata": {
        "colab": {
          "base_uri": "https://localhost:8080/",
          "height": 189
        },
        "id": "2q73PagrJ-oT",
        "outputId": "b149ffe7-df7f-4afc-b68f-85b126cc7c1e"
      },
      "source": [
        "df.tail()"
      ],
      "execution_count": 5,
      "outputs": [
        {
          "output_type": "execute_result",
          "data": {
            "text/html": [
              "<div>\n",
              "<style scoped>\n",
              "    .dataframe tbody tr th:only-of-type {\n",
              "        vertical-align: middle;\n",
              "    }\n",
              "\n",
              "    .dataframe tbody tr th {\n",
              "        vertical-align: top;\n",
              "    }\n",
              "\n",
              "    .dataframe thead th {\n",
              "        text-align: right;\n",
              "    }\n",
              "</style>\n",
              "<table border=\"1\" class=\"dataframe\">\n",
              "  <thead>\n",
              "    <tr style=\"text-align: right;\">\n",
              "      <th></th>\n",
              "      <th>Employee_Name</th>\n",
              "      <th>MaritalStatusID</th>\n",
              "      <th>GenderID</th>\n",
              "      <th>DeptID</th>\n",
              "      <th>PerfScoreID</th>\n",
              "      <th>PayRate</th>\n",
              "      <th>PositionID</th>\n",
              "      <th>EngagementSurvey</th>\n",
              "      <th>EmpSatisfaction</th>\n",
              "      <th>SpecialProjectsCount</th>\n",
              "    </tr>\n",
              "  </thead>\n",
              "  <tbody>\n",
              "    <tr>\n",
              "      <th>305</th>\n",
              "      <td>Daniele, Ann</td>\n",
              "      <td>1</td>\n",
              "      <td>0</td>\n",
              "      <td>3</td>\n",
              "      <td>3</td>\n",
              "      <td>54.1</td>\n",
              "      <td>28</td>\n",
              "      <td>1.55</td>\n",
              "      <td>5</td>\n",
              "      <td>8</td>\n",
              "    </tr>\n",
              "    <tr>\n",
              "      <th>306</th>\n",
              "      <td>Lajiri,  Jyoti</td>\n",
              "      <td>1</td>\n",
              "      <td>1</td>\n",
              "      <td>3</td>\n",
              "      <td>3</td>\n",
              "      <td>56.2</td>\n",
              "      <td>28</td>\n",
              "      <td>4.46</td>\n",
              "      <td>5</td>\n",
              "      <td>6</td>\n",
              "    </tr>\n",
              "    <tr>\n",
              "      <th>307</th>\n",
              "      <td>Semizoglou, Jeremiah</td>\n",
              "      <td>1</td>\n",
              "      <td>1</td>\n",
              "      <td>3</td>\n",
              "      <td>3</td>\n",
              "      <td>53.8</td>\n",
              "      <td>28</td>\n",
              "      <td>3.27</td>\n",
              "      <td>4</td>\n",
              "      <td>5</td>\n",
              "    </tr>\n",
              "    <tr>\n",
              "      <th>308</th>\n",
              "      <td>South, Joe</td>\n",
              "      <td>0</td>\n",
              "      <td>1</td>\n",
              "      <td>3</td>\n",
              "      <td>3</td>\n",
              "      <td>53.0</td>\n",
              "      <td>28</td>\n",
              "      <td>5.00</td>\n",
              "      <td>3</td>\n",
              "      <td>4</td>\n",
              "    </tr>\n",
              "    <tr>\n",
              "      <th>309</th>\n",
              "      <td>Warfield, Sarah</td>\n",
              "      <td>4</td>\n",
              "      <td>0</td>\n",
              "      <td>3</td>\n",
              "      <td>3</td>\n",
              "      <td>55.2</td>\n",
              "      <td>28</td>\n",
              "      <td>1.06</td>\n",
              "      <td>4</td>\n",
              "      <td>8</td>\n",
              "    </tr>\n",
              "  </tbody>\n",
              "</table>\n",
              "</div>"
            ],
            "text/plain": [
              "              Employee_Name  ...  SpecialProjectsCount\n",
              "305          Daniele, Ann    ...                     8\n",
              "306          Lajiri,  Jyoti  ...                     6\n",
              "307  Semizoglou, Jeremiah    ...                     5\n",
              "308              South, Joe  ...                     4\n",
              "309         Warfield, Sarah  ...                     8\n",
              "\n",
              "[5 rows x 10 columns]"
            ]
          },
          "metadata": {
            "tags": []
          },
          "execution_count": 5
        }
      ]
    },
    {
      "cell_type": "code",
      "metadata": {
        "colab": {
          "base_uri": "https://localhost:8080/",
          "height": 303
        },
        "id": "cv8u0cXOKBhV",
        "outputId": "96743705-803a-4943-ac95-f3763b3e2b32"
      },
      "source": [
        "df1=df.corr()\n",
        "df1"
      ],
      "execution_count": 8,
      "outputs": [
        {
          "output_type": "execute_result",
          "data": {
            "text/html": [
              "<div>\n",
              "<style scoped>\n",
              "    .dataframe tbody tr th:only-of-type {\n",
              "        vertical-align: middle;\n",
              "    }\n",
              "\n",
              "    .dataframe tbody tr th {\n",
              "        vertical-align: top;\n",
              "    }\n",
              "\n",
              "    .dataframe thead th {\n",
              "        text-align: right;\n",
              "    }\n",
              "</style>\n",
              "<table border=\"1\" class=\"dataframe\">\n",
              "  <thead>\n",
              "    <tr style=\"text-align: right;\">\n",
              "      <th></th>\n",
              "      <th>MaritalStatusID</th>\n",
              "      <th>GenderID</th>\n",
              "      <th>DeptID</th>\n",
              "      <th>PerfScoreID</th>\n",
              "      <th>PayRate</th>\n",
              "      <th>PositionID</th>\n",
              "      <th>EngagementSurvey</th>\n",
              "      <th>EmpSatisfaction</th>\n",
              "      <th>SpecialProjectsCount</th>\n",
              "    </tr>\n",
              "  </thead>\n",
              "  <tbody>\n",
              "    <tr>\n",
              "      <th>MaritalStatusID</th>\n",
              "      <td>1.000000</td>\n",
              "      <td>-0.025479</td>\n",
              "      <td>0.011966</td>\n",
              "      <td>0.047773</td>\n",
              "      <td>-0.082459</td>\n",
              "      <td>0.021703</td>\n",
              "      <td>0.021298</td>\n",
              "      <td>0.001990</td>\n",
              "      <td>-0.051893</td>\n",
              "    </tr>\n",
              "    <tr>\n",
              "      <th>GenderID</th>\n",
              "      <td>-0.025479</td>\n",
              "      <td>1.000000</td>\n",
              "      <td>-0.046189</td>\n",
              "      <td>-0.054915</td>\n",
              "      <td>0.136151</td>\n",
              "      <td>-0.075992</td>\n",
              "      <td>-0.037021</td>\n",
              "      <td>-0.053138</td>\n",
              "      <td>0.089131</td>\n",
              "    </tr>\n",
              "    <tr>\n",
              "      <th>DeptID</th>\n",
              "      <td>0.011966</td>\n",
              "      <td>-0.046189</td>\n",
              "      <td>1.000000</td>\n",
              "      <td>-0.072365</td>\n",
              "      <td>-0.202810</td>\n",
              "      <td>0.028941</td>\n",
              "      <td>-0.036522</td>\n",
              "      <td>0.031583</td>\n",
              "      <td>-0.791258</td>\n",
              "    </tr>\n",
              "    <tr>\n",
              "      <th>PerfScoreID</th>\n",
              "      <td>0.047773</td>\n",
              "      <td>-0.054915</td>\n",
              "      <td>-0.072365</td>\n",
              "      <td>1.000000</td>\n",
              "      <td>0.020695</td>\n",
              "      <td>0.009172</td>\n",
              "      <td>0.056095</td>\n",
              "      <td>0.310654</td>\n",
              "      <td>0.059719</td>\n",
              "    </tr>\n",
              "    <tr>\n",
              "      <th>PayRate</th>\n",
              "      <td>-0.082459</td>\n",
              "      <td>0.136151</td>\n",
              "      <td>-0.202810</td>\n",
              "      <td>0.020695</td>\n",
              "      <td>1.000000</td>\n",
              "      <td>-0.383827</td>\n",
              "      <td>-0.024223</td>\n",
              "      <td>0.061525</td>\n",
              "      <td>0.448484</td>\n",
              "    </tr>\n",
              "    <tr>\n",
              "      <th>PositionID</th>\n",
              "      <td>0.021703</td>\n",
              "      <td>-0.075992</td>\n",
              "      <td>0.028941</td>\n",
              "      <td>0.009172</td>\n",
              "      <td>-0.383827</td>\n",
              "      <td>1.000000</td>\n",
              "      <td>0.005402</td>\n",
              "      <td>-0.010539</td>\n",
              "      <td>-0.155763</td>\n",
              "    </tr>\n",
              "    <tr>\n",
              "      <th>EngagementSurvey</th>\n",
              "      <td>0.021298</td>\n",
              "      <td>-0.037021</td>\n",
              "      <td>-0.036522</td>\n",
              "      <td>0.056095</td>\n",
              "      <td>-0.024223</td>\n",
              "      <td>0.005402</td>\n",
              "      <td>1.000000</td>\n",
              "      <td>-0.017123</td>\n",
              "      <td>-0.040253</td>\n",
              "    </tr>\n",
              "    <tr>\n",
              "      <th>EmpSatisfaction</th>\n",
              "      <td>0.001990</td>\n",
              "      <td>-0.053138</td>\n",
              "      <td>0.031583</td>\n",
              "      <td>0.310654</td>\n",
              "      <td>0.061525</td>\n",
              "      <td>-0.010539</td>\n",
              "      <td>-0.017123</td>\n",
              "      <td>1.000000</td>\n",
              "      <td>0.036456</td>\n",
              "    </tr>\n",
              "    <tr>\n",
              "      <th>SpecialProjectsCount</th>\n",
              "      <td>-0.051893</td>\n",
              "      <td>0.089131</td>\n",
              "      <td>-0.791258</td>\n",
              "      <td>0.059719</td>\n",
              "      <td>0.448484</td>\n",
              "      <td>-0.155763</td>\n",
              "      <td>-0.040253</td>\n",
              "      <td>0.036456</td>\n",
              "      <td>1.000000</td>\n",
              "    </tr>\n",
              "  </tbody>\n",
              "</table>\n",
              "</div>"
            ],
            "text/plain": [
              "                      MaritalStatusID  ...  SpecialProjectsCount\n",
              "MaritalStatusID              1.000000  ...             -0.051893\n",
              "GenderID                    -0.025479  ...              0.089131\n",
              "DeptID                       0.011966  ...             -0.791258\n",
              "PerfScoreID                  0.047773  ...              0.059719\n",
              "PayRate                     -0.082459  ...              0.448484\n",
              "PositionID                   0.021703  ...             -0.155763\n",
              "EngagementSurvey             0.021298  ...             -0.040253\n",
              "EmpSatisfaction              0.001990  ...              0.036456\n",
              "SpecialProjectsCount        -0.051893  ...              1.000000\n",
              "\n",
              "[9 rows x 9 columns]"
            ]
          },
          "metadata": {
            "tags": []
          },
          "execution_count": 8
        }
      ]
    },
    {
      "cell_type": "code",
      "metadata": {
        "colab": {
          "base_uri": "https://localhost:8080/",
          "height": 708
        },
        "id": "R-iMhi3TKBkA",
        "outputId": "44363f8c-e534-4d73-cc8b-4957c51d21e6"
      },
      "source": [
        "fig=plt.figure(figsize=(10,10))\n",
        "sns.heatmap(df1,annot=True,)"
      ],
      "execution_count": 13,
      "outputs": [
        {
          "output_type": "execute_result",
          "data": {
            "text/plain": [
              "<matplotlib.axes._subplots.AxesSubplot at 0x7f4d89712d68>"
            ]
          },
          "metadata": {
            "tags": []
          },
          "execution_count": 13
        },
        {
          "output_type": "display_data",
          "data": {
            "image/png": "[encoded data removed]",
            "text/plain": [
              "<Figure size 720x720 with 2 Axes>"
            ]
          },
          "metadata": {
            "tags": [],
            "needs_background": "light"
          }
        }
      ]
    },
    {
      "cell_type": "code",
      "metadata": {
        "colab": {
          "base_uri": "https://localhost:8080/"
        },
        "id": "nxOOSrOLL04w",
        "outputId": "d9a2772c-a017-4e58-bd37-0ee92e0df3f0"
      },
      "source": [
        "df.isnull().sum()"
      ],
      "execution_count": 16,
      "outputs": [
        {
          "output_type": "execute_result",
          "data": {
            "text/plain": [
              "Employee_Name           0\n",
              "MaritalStatusID         0\n",
              "GenderID                0\n",
              "DeptID                  0\n",
              "PerfScoreID             0\n",
              "PayRate                 0\n",
              "PositionID              0\n",
              "EngagementSurvey        0\n",
              "EmpSatisfaction         0\n",
              "SpecialProjectsCount    0\n",
              "dtype: int64"
            ]
          },
          "metadata": {
            "tags": []
          },
          "execution_count": 16
        }
      ]
    },
    {
      "cell_type": "code",
      "metadata": {
        "colab": {
          "base_uri": "https://localhost:8080/"
        },
        "id": "k4R9OzOML07o",
        "outputId": "f843e49d-74cb-4676-cb1a-f6152e25ab0e"
      },
      "source": [
        "df.nunique()"
      ],
      "execution_count": 17,
      "outputs": [
        {
          "output_type": "execute_result",
          "data": {
            "text/plain": [
              "Employee_Name           310\n",
              "MaritalStatusID           5\n",
              "GenderID                  2\n",
              "DeptID                    6\n",
              "PerfScoreID               4\n",
              "PayRate                  94\n",
              "PositionID               30\n",
              "EngagementSurvey        188\n",
              "EmpSatisfaction           5\n",
              "SpecialProjectsCount      8\n",
              "dtype: int64"
            ]
          },
          "metadata": {
            "tags": []
          },
          "execution_count": 17
        }
      ]
    },
    {
      "cell_type": "code",
      "metadata": {
        "id": "g3y7TKN-Kolz"
      },
      "source": [
        "df.drop(columns=['Employee_Name'], inplace=True)"
      ],
      "execution_count": 19,
      "outputs": []
    },
    {
      "cell_type": "code",
      "metadata": {
        "colab": {
          "base_uri": "https://localhost:8080/"
        },
        "id": "MiGaXBYuKoop",
        "outputId": "9b9388d0-b306-46de-cbd0-e2832904429a"
      },
      "source": [
        "df.info()"
      ],
      "execution_count": 20,
      "outputs": [
        {
          "output_type": "stream",
          "text": [
            "<class 'pandas.core.frame.DataFrame'>\n",
            "RangeIndex: 310 entries, 0 to 309\n",
            "Data columns (total 9 columns):\n",
            " #   Column                Non-Null Count  Dtype  \n",
            "---  ------                --------------  -----  \n",
            " 0   MaritalStatusID       310 non-null    int64  \n",
            " 1   GenderID              310 non-null    int64  \n",
            " 2   DeptID                310 non-null    int64  \n",
            " 3   PerfScoreID           310 non-null    int64  \n",
            " 4   PayRate               310 non-null    float64\n",
            " 5   PositionID            310 non-null    int64  \n",
            " 6   EngagementSurvey      310 non-null    float64\n",
            " 7   EmpSatisfaction       310 non-null    int64  \n",
            " 8   SpecialProjectsCount  310 non-null    int64  \n",
            "dtypes: float64(2), int64(7)\n",
            "memory usage: 21.9 KB\n"
          ],
          "name": "stdout"
        }
      ]
    },
    {
      "cell_type": "code",
      "metadata": {
        "colab": {
          "base_uri": "https://localhost:8080/",
          "height": 297
        },
        "id": "ENdlpXSNPCnr",
        "outputId": "6528cf57-4944-42b8-e8ce-0c2fa32870f4"
      },
      "source": [
        "sns.countplot(x='GenderID',data=df)"
      ],
      "execution_count": 22,
      "outputs": [
        {
          "output_type": "execute_result",
          "data": {
            "text/plain": [
              "<matplotlib.axes._subplots.AxesSubplot at 0x7f4d895c33c8>"
            ]
          },
          "metadata": {
            "tags": []
          },
          "execution_count": 22
        },
        {
          "output_type": "display_data",
          "data": {
            "image/png": "[encoded data removed]",
            "text/plain": [
              "<Figure size 432x288 with 1 Axes>"
            ]
          },
          "metadata": {
            "tags": [],
            "needs_background": "light"
          }
        }
      ]
    },
    {
      "cell_type": "code",
      "metadata": {
        "colab": {
          "base_uri": "https://localhost:8080/",
          "height": 297
        },
        "id": "R1Ax-hykPCqX",
        "outputId": "e30ad801-7afe-4bbc-a616-0fecbee1717b"
      },
      "source": [
        "sns.countplot(x='MaritalStatusID',data=df)"
      ],
      "execution_count": 23,
      "outputs": [
        {
          "output_type": "execute_result",
          "data": {
            "text/plain": [
              "<matplotlib.axes._subplots.AxesSubplot at 0x7f4d893a04e0>"
            ]
          },
          "metadata": {
            "tags": []
          },
          "execution_count": 23
        },
        {
          "output_type": "display_data",
          "data": {
            "image/png": "[encoded data removed]",
            "text/plain": [
              "<Figure size 432x288 with 1 Axes>"
            ]
          },
          "metadata": {
            "tags": [],
            "needs_background": "light"
          }
        }
      ]
    },
    {
      "cell_type": "code",
      "metadata": {
        "id": "SPueUordQgw7"
      },
      "source": [
        "from sklearn.model_selection import train_test_split\n",
        "from sklearn.ensemble import RandomForestClassifier\n",
        "from sklearn.metrics import classification_report,accuracy_score,confusion_matrix"
      ],
      "execution_count": 27,
      "outputs": []
    },
    {
      "cell_type": "code",
      "metadata": {
        "id": "AsBILLpWPCtV"
      },
      "source": [
        "y = df['PerfScoreID']\n",
        "X = df.drop(['PerfScoreID'], axis=1)"
      ],
      "execution_count": 28,
      "outputs": []
    },
    {
      "cell_type": "code",
      "metadata": {
        "id": "-sd5FXO4QD05"
      },
      "source": [
        "X_train, X_test, y_train, y_test = train_test_split(X, y, test_size=0.3)"
      ],
      "execution_count": 29,
      "outputs": []
    },
    {
      "cell_type": "code",
      "metadata": {
        "id": "4OJhRM5qQD30"
      },
      "source": [
        "rf_model = RandomForestClassifier(n_estimators=400, max_depth=6, oob_score=True, class_weight='balanced', random_state=24)"
      ],
      "execution_count": 30,
      "outputs": []
    },
    {
      "cell_type": "code",
      "metadata": {
        "colab": {
          "base_uri": "https://localhost:8080/"
        },
        "id": "_vfMeh1dQD6v",
        "outputId": "d528bf32-4546-4fec-ebe7-9a0ce148c6d9"
      },
      "source": [
        "rf_model.fit(X_train, y_train)"
      ],
      "execution_count": 31,
      "outputs": [
        {
          "output_type": "execute_result",
          "data": {
            "text/plain": [
              "RandomForestClassifier(bootstrap=True, ccp_alpha=0.0, class_weight='balanced',\n",
              "                       criterion='gini', max_depth=6, max_features='auto',\n",
              "                       max_leaf_nodes=None, max_samples=None,\n",
              "                       min_impurity_decrease=0.0, min_impurity_split=None,\n",
              "                       min_samples_leaf=1, min_samples_split=2,\n",
              "                       min_weight_fraction_leaf=0.0, n_estimators=400,\n",
              "                       n_jobs=None, oob_score=True, random_state=24, verbose=0,\n",
              "                       warm_start=False)"
            ]
          },
          "metadata": {
            "tags": []
          },
          "execution_count": 31
        }
      ]
    },
    {
      "cell_type": "code",
      "metadata": {
        "id": "32suxOeBKotg"
      },
      "source": [
        "rf_pred = rf_model.predict(X_test)"
      ],
      "execution_count": 33,
      "outputs": []
    },
    {
      "cell_type": "code",
      "metadata": {
        "colab": {
          "base_uri": "https://localhost:8080/"
        },
        "id": "iR_yptWkR6Sr",
        "outputId": "3f2e2ad5-94b2-4807-960f-1e759d4ca091"
      },
      "source": [
        "print(classification_report(y_test, rf_pred))"
      ],
      "execution_count": 34,
      "outputs": [
        {
          "output_type": "stream",
          "text": [
            "              precision    recall  f1-score   support\n",
            "\n",
            "           1       0.50      1.00      0.67         1\n",
            "           2       0.20      0.17      0.18         6\n",
            "           3       0.81      0.76      0.79        75\n",
            "           4       0.06      0.09      0.07        11\n",
            "\n",
            "    accuracy                           0.65        93\n",
            "   macro avg       0.39      0.50      0.43        93\n",
            "weighted avg       0.68      0.65      0.66        93\n",
            "\n"
          ],
          "name": "stdout"
        }
      ]
    },
    {
      "cell_type": "code",
      "metadata": {
        "colab": {
          "base_uri": "https://localhost:8080/"
        },
        "id": "a1UARHV9R-bh",
        "outputId": "a3c9b702-c510-4dad-d6de-3245514b7edd"
      },
      "source": [
        "print(accuracy_score(y_test,rf_pred))"
      ],
      "execution_count": 35,
      "outputs": [
        {
          "output_type": "stream",
          "text": [
            "0.6451612903225806\n"
          ],
          "name": "stdout"
        }
      ]
    },
    {
      "cell_type": "markdown",
      "metadata": {
        "id": "0R9WpGE1SxOB"
      },
      "source": [
        "## With the model we get an accuracy score of 0.64516"
      ]
    },
    {
      "cell_type": "code",
      "metadata": {
        "colab": {
          "base_uri": "https://localhost:8080/"
        },
        "id": "LNTDN39ZR-g8",
        "outputId": "58a50296-cbbb-4d9e-d5aa-c82f894a6ab7"
      },
      "source": [
        "X_train.columns"
      ],
      "execution_count": 46,
      "outputs": [
        {
          "output_type": "execute_result",
          "data": {
            "text/plain": [
              "Index(['MaritalStatusID', 'GenderID', 'DeptID', 'PayRate', 'PositionID',\n",
              "       'EngagementSurvey', 'EmpSatisfaction', 'SpecialProjectsCount'],\n",
              "      dtype='object')"
            ]
          },
          "metadata": {
            "tags": []
          },
          "execution_count": 46
        }
      ]
    },
    {
      "cell_type": "code",
      "metadata": {
        "id": "rldlYwmqVYka"
      },
      "source": [
        "feature_imp = pd.Series(rf_model.feature_importances_,index=X_train.columns).sort_values(ascending=False)"
      ],
      "execution_count": 41,
      "outputs": []
    },
    {
      "cell_type": "code",
      "metadata": {
        "colab": {
          "base_uri": "https://localhost:8080/"
        },
        "id": "bRLLbd2HXKcf",
        "outputId": "ecaa45f4-ff5f-46c4-d523-06031b48ef31"
      },
      "source": [
        "print(feature_imp)"
      ],
      "execution_count": 44,
      "outputs": [
        {
          "output_type": "stream",
          "text": [
            "EngagementSurvey        0.261401\n",
            "EmpSatisfaction         0.234923\n",
            "PayRate                 0.156767\n",
            "PositionID              0.105725\n",
            "MaritalStatusID         0.100871\n",
            "DeptID                  0.052878\n",
            "GenderID                0.050099\n",
            "SpecialProjectsCount    0.037336\n",
            "dtype: float64\n"
          ],
          "name": "stdout"
        }
      ]
    },
    {
      "cell_type": "code",
      "metadata": {
        "colab": {
          "base_uri": "https://localhost:8080/",
          "height": 295
        },
        "id": "ZnobdfVlVYnv",
        "outputId": "f0e8eb3a-e5e0-429e-e583-2c4afb6e492a"
      },
      "source": [
        "sns.barplot(x=feature_imp, y=feature_imp.index)\n",
        "plt.xlabel('Feature Importance Score')\n",
        "plt.ylabel('Features')\n",
        "plt.title(\"Important Features\")\n",
        "plt.show()"
      ],
      "execution_count": 43,
      "outputs": [
        {
          "output_type": "display_data",
          "data": {
            "image/png": "[encoded data removed]",
            "text/plain": [
              "<Figure size 432x288 with 1 Axes>"
            ]
          },
          "metadata": {
            "tags": [],
            "needs_background": "light"
          }
        }
      ]
    },
    {
      "cell_type": "markdown",
      "metadata": {
        "id": "GC0yJ-RUWMo7"
      },
      "source": [
        "## The following are having the most feature importance values in sorted order. Enggement survey , Emptiaction and Payrate are having the most importance\n"
      ]
    },
    {
      "cell_type": "code",
      "metadata": {
        "id": "VIjZBzFeWL8p"
      },
      "source": [
        ""
      ],
      "execution_count": null,
      "outputs": []
    }
  ]
}